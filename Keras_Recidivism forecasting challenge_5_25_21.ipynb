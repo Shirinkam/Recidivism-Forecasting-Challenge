{
 "cells": [
  {
   "cell_type": "markdown",
   "metadata": {},
   "source": [
    "## Project goal: forecasting the probability individuals recidivated year 1"
   ]
  },
  {
   "cell_type": "markdown",
   "metadata": {},
   "source": [
    "## Data description:\n",
    "#### The Challenge uses data on roughly 26,000 individuals from the State of Georgia released from Georgia prisons on discretionary parole to the custody of the Georgia Department of Community Supervision (GDCS) for the purpose of post-incarceration supervision between January 1, 2013 and December 31, 2015. This dataset is split into two sets, training and test. We used a 70/30 split, indicating that 70% of the data is in the training dataset and 30% in the test dataset. The training dataset includes the four dichotomous dependent variables measuring if an individual recidivated in the three-year follow-up period (yes/no) as well as recidivated by time period (year 1, year 2, or year 3). Recidivism is measured as an arrest for a new felony or misdemeanor crime within three years of the supervision start date. The test dataset does not include the four dependent variables. The initial test dataset will include all individuals selected in the 30% test dataset. After the first Challenge period (forecasting the probability individuals recidivated year 1) concludes, a second test dataset will be released containing only those individuals that did not recidivate year 1. The same will be done after the second Challenge period. It should also be noted that the test dataset will contain variables that describe supervision activities, such as drug testing and employment. These data will not appear in the test dataset until the second Challenge period (i.e., year 2 dataset). We believe this is more reflective of practice where activities must accrue and correctional oficers must become aware prior to a recidivism event. The additional data released at the second Challenge period will not change at the third Challenge period release (i.e., year 3 dataset); they are measures of supervision activities during the entire time people were under supervision or until the date of recidivism for those arrested. The only thing that changes with the third Challenge period release is the removal of those individuals that did recidivate in year 2. \n",
    "## Data Source:\n",
    "#### Both the GDCS and the Georgia Bureau of Investigation provided data."
   ]
  },
  {
   "cell_type": "code",
   "execution_count": 4,
   "metadata": {},
   "outputs": [],
   "source": [
    "import csv\n",
    "import numpy as np # linear algebra\n",
    "import pandas as pd # data processing, CSV file I/O (e.g. pd.read_csv)\n",
    "import re\n",
    "import string\n",
    "import nltk"
   ]
  },
  {
   "cell_type": "code",
   "execution_count": 21,
   "metadata": {},
   "outputs": [],
   "source": [
    "import tensorflow as tf\n",
    "from tensorflow.keras import datasets, layers, models\n",
    "import keras\n",
    "import matplotlib.pyplot as plt\n",
    "import numpy as np"
   ]
  },
  {
   "cell_type": "code",
   "execution_count": 6,
   "metadata": {},
   "outputs": [],
   "source": [
    "#Load train and test data\n",
    "data_train = pd.read_csv(\"NIJ_s_Recidivism_Challenge_Training_Dataset.csv\")\n",
    "data_test = pd.read_csv(\"NIJ_s_Recidivism_Challenge_Test_Dataset1.csv\")"
   ]
  },
  {
   "cell_type": "code",
   "execution_count": 8,
   "metadata": {},
   "outputs": [],
   "source": [
    "# data_train.info()"
   ]
  },
  {
   "cell_type": "code",
   "execution_count": 123,
   "metadata": {},
   "outputs": [],
   "source": [
    "# data_test.info()"
   ]
  },
  {
   "cell_type": "code",
   "execution_count": 7,
   "metadata": {},
   "outputs": [],
   "source": [
    "# Remove rows with null values\n",
    "data_train=data_train.dropna(axis=0)\n",
    "data_test=data_test.dropna(axis=0)\n"
   ]
  },
  {
   "cell_type": "code",
   "execution_count": 8,
   "metadata": {},
   "outputs": [],
   "source": [
    "# Remove the last 4 columns (y values) from the train data and removing the id column from the test and train data\n",
    "X_train=data_train[data_train.columns[1:-4]]\n",
    "Y_train=data_train[data_train.columns[-3]]*1\n",
    "X_test=data_test[data_test.columns[1:]]"
   ]
  },
  {
   "cell_type": "code",
   "execution_count": 11,
   "metadata": {},
   "outputs": [
    {
     "data": {
      "text/plain": [
       "9838"
      ]
     },
     "execution_count": 11,
     "metadata": {},
     "output_type": "execute_result"
    }
   ],
   "source": [
    "X_train.shape[0]\n",
    "# X_train.info()"
   ]
  },
  {
   "cell_type": "code",
   "execution_count": 9,
   "metadata": {},
   "outputs": [
    {
     "data": {
      "text/plain": [
       "9838"
      ]
     },
     "execution_count": 9,
     "metadata": {},
     "output_type": "execute_result"
    }
   ],
   "source": [
    "Y_train=data_train[data_train.columns[-3]]*1\n",
    "# Y_train\n",
    "Y_train.shape[0]"
   ]
  },
  {
   "cell_type": "code",
   "execution_count": 188,
   "metadata": {},
   "outputs": [
    {
     "data": {
      "text/plain": [
       "1     0\n",
       "2     0\n",
       "3     0\n",
       "4     1\n",
       "7     1\n",
       "8     0\n",
       "11    1\n",
       "13    0\n",
       "14    0\n",
       "16    0\n",
       "18    1\n",
       "20    0\n",
       "21    1\n",
       "23    0\n",
       "25    0\n",
       "27    0\n",
       "28    0\n",
       "30    1\n",
       "31    0\n",
       "32    0\n",
       "33    0\n",
       "34    0\n",
       "37    0\n",
       "39    0\n",
       "43    0\n",
       "47    1\n",
       "52    0\n",
       "53    1\n",
       "57    0\n",
       "58    0\n",
       "59    1\n",
       "60    0\n",
       "62    0\n",
       "64    0\n",
       "65    0\n",
       "66    0\n",
       "67    0\n",
       "68    1\n",
       "70    1\n",
       "73    0\n",
       "75    0\n",
       "78    1\n",
       "81    1\n",
       "85    1\n",
       "89    0\n",
       "91    0\n",
       "93    0\n",
       "94    1\n",
       "95    1\n",
       "Name: Recidivism_Arrest_Year1, dtype: int32"
      ]
     },
     "execution_count": 188,
     "metadata": {},
     "output_type": "execute_result"
    }
   ],
   "source": [
    "Y_train[1:50]"
   ]
  },
  {
   "cell_type": "code",
   "execution_count": 129,
   "metadata": {},
   "outputs": [
    {
     "data": {
      "text/plain": [
       "(5568, 32)"
      ]
     },
     "execution_count": 129,
     "metadata": {},
     "output_type": "execute_result"
    }
   ],
   "source": [
    "# X_test.info()\n",
    "X_test.shape"
   ]
  },
  {
   "cell_type": "code",
   "execution_count": 22,
   "metadata": {
    "scrolled": true
   },
   "outputs": [
    {
     "data": {
      "text/plain": [
       "(9838, 32)"
      ]
     },
     "execution_count": 22,
     "metadata": {},
     "output_type": "execute_result"
    }
   ],
   "source": [
    "X_train.shape"
   ]
  },
  {
   "cell_type": "code",
   "execution_count": 10,
   "metadata": {
    "scrolled": true
   },
   "outputs": [
    {
     "data": {
      "text/html": [
       "<div>\n",
       "<style scoped>\n",
       "    .dataframe tbody tr th:only-of-type {\n",
       "        vertical-align: middle;\n",
       "    }\n",
       "\n",
       "    .dataframe tbody tr th {\n",
       "        vertical-align: top;\n",
       "    }\n",
       "\n",
       "    .dataframe thead th {\n",
       "        text-align: right;\n",
       "    }\n",
       "</style>\n",
       "<table border=\"1\" class=\"dataframe\">\n",
       "  <thead>\n",
       "    <tr style=\"text-align: right;\">\n",
       "      <th></th>\n",
       "      <th>Gender</th>\n",
       "      <th>Race</th>\n",
       "      <th>Age_at_Release</th>\n",
       "      <th>Residence_PUMA</th>\n",
       "      <th>Gang_Affiliated</th>\n",
       "      <th>Supervision_Risk_Score_First</th>\n",
       "      <th>Supervision_Level_First</th>\n",
       "      <th>Education_Level</th>\n",
       "      <th>Dependents</th>\n",
       "      <th>Prison_Offense</th>\n",
       "      <th>...</th>\n",
       "      <th>Prior_Conviction_Episodes_Prop</th>\n",
       "      <th>Prior_Conviction_Episodes_Drug</th>\n",
       "      <th>Prior_Conviction_Episodes_PPViolationCharges</th>\n",
       "      <th>Prior_Conviction_Episodes_DomesticViolenceCharges</th>\n",
       "      <th>Prior_Conviction_Episodes_GunCharges</th>\n",
       "      <th>Prior_Revocations_Parole</th>\n",
       "      <th>Prior_Revocations_Probation</th>\n",
       "      <th>Condition_MH_SA</th>\n",
       "      <th>Condition_Cog_Ed</th>\n",
       "      <th>Condition_Other</th>\n",
       "    </tr>\n",
       "  </thead>\n",
       "  <tbody>\n",
       "    <tr>\n",
       "      <th>0</th>\n",
       "      <td>M</td>\n",
       "      <td>BLACK</td>\n",
       "      <td>43-47</td>\n",
       "      <td>16</td>\n",
       "      <td>False</td>\n",
       "      <td>3.0</td>\n",
       "      <td>Standard</td>\n",
       "      <td>At least some college</td>\n",
       "      <td>3 or more</td>\n",
       "      <td>Drug</td>\n",
       "      <td>...</td>\n",
       "      <td>2</td>\n",
       "      <td>2 or more</td>\n",
       "      <td>False</td>\n",
       "      <td>False</td>\n",
       "      <td>False</td>\n",
       "      <td>False</td>\n",
       "      <td>False</td>\n",
       "      <td>True</td>\n",
       "      <td>True</td>\n",
       "      <td>False</td>\n",
       "    </tr>\n",
       "    <tr>\n",
       "      <th>1</th>\n",
       "      <td>M</td>\n",
       "      <td>BLACK</td>\n",
       "      <td>33-37</td>\n",
       "      <td>16</td>\n",
       "      <td>False</td>\n",
       "      <td>6.0</td>\n",
       "      <td>Specialized</td>\n",
       "      <td>Less than HS diploma</td>\n",
       "      <td>1</td>\n",
       "      <td>Violent/Non-Sex</td>\n",
       "      <td>...</td>\n",
       "      <td>0</td>\n",
       "      <td>2 or more</td>\n",
       "      <td>True</td>\n",
       "      <td>True</td>\n",
       "      <td>True</td>\n",
       "      <td>False</td>\n",
       "      <td>False</td>\n",
       "      <td>False</td>\n",
       "      <td>False</td>\n",
       "      <td>False</td>\n",
       "    </tr>\n",
       "    <tr>\n",
       "      <th>2</th>\n",
       "      <td>M</td>\n",
       "      <td>BLACK</td>\n",
       "      <td>48 or older</td>\n",
       "      <td>24</td>\n",
       "      <td>False</td>\n",
       "      <td>7.0</td>\n",
       "      <td>High</td>\n",
       "      <td>At least some college</td>\n",
       "      <td>3 or more</td>\n",
       "      <td>Drug</td>\n",
       "      <td>...</td>\n",
       "      <td>1</td>\n",
       "      <td>2 or more</td>\n",
       "      <td>False</td>\n",
       "      <td>True</td>\n",
       "      <td>False</td>\n",
       "      <td>False</td>\n",
       "      <td>False</td>\n",
       "      <td>True</td>\n",
       "      <td>True</td>\n",
       "      <td>False</td>\n",
       "    </tr>\n",
       "  </tbody>\n",
       "</table>\n",
       "<p>3 rows × 32 columns</p>\n",
       "</div>"
      ],
      "text/plain": [
       "  Gender   Race Age_at_Release  Residence_PUMA Gang_Affiliated  \\\n",
       "0      M  BLACK          43-47              16           False   \n",
       "1      M  BLACK          33-37              16           False   \n",
       "2      M  BLACK    48 or older              24           False   \n",
       "\n",
       "   Supervision_Risk_Score_First Supervision_Level_First  \\\n",
       "0                           3.0                Standard   \n",
       "1                           6.0             Specialized   \n",
       "2                           7.0                    High   \n",
       "\n",
       "         Education_Level Dependents   Prison_Offense  ...  \\\n",
       "0  At least some college  3 or more             Drug  ...   \n",
       "1   Less than HS diploma          1  Violent/Non-Sex  ...   \n",
       "2  At least some college  3 or more             Drug  ...   \n",
       "\n",
       "  Prior_Conviction_Episodes_Prop Prior_Conviction_Episodes_Drug  \\\n",
       "0                              2                      2 or more   \n",
       "1                              0                      2 or more   \n",
       "2                              1                      2 or more   \n",
       "\n",
       "  Prior_Conviction_Episodes_PPViolationCharges  \\\n",
       "0                                        False   \n",
       "1                                         True   \n",
       "2                                        False   \n",
       "\n",
       "  Prior_Conviction_Episodes_DomesticViolenceCharges  \\\n",
       "0                                             False   \n",
       "1                                              True   \n",
       "2                                              True   \n",
       "\n",
       "  Prior_Conviction_Episodes_GunCharges Prior_Revocations_Parole  \\\n",
       "0                                False                    False   \n",
       "1                                 True                    False   \n",
       "2                                False                    False   \n",
       "\n",
       "  Prior_Revocations_Probation  Condition_MH_SA  Condition_Cog_Ed  \\\n",
       "0                       False             True              True   \n",
       "1                       False            False             False   \n",
       "2                       False             True              True   \n",
       "\n",
       "  Condition_Other  \n",
       "0           False  \n",
       "1           False  \n",
       "2           False  \n",
       "\n",
       "[3 rows x 32 columns]"
      ]
     },
     "execution_count": 10,
     "metadata": {},
     "output_type": "execute_result"
    }
   ],
   "source": [
    "# change the number of columns in train data from 52 to 32 (same as the test data)  \n",
    "X_train=X_train[X_test.columns]\n",
    "X_train.head(3)"
   ]
  },
  {
   "cell_type": "code",
   "execution_count": 11,
   "metadata": {},
   "outputs": [],
   "source": [
    "X_total=X_train.append(X_test)\n",
    "# X_total\n"
   ]
  },
  {
   "cell_type": "code",
   "execution_count": 12,
   "metadata": {},
   "outputs": [],
   "source": [
    "X_total=pd.get_dummies(X_total, columns=[\"Gender\",\"Race\", \"Age_at_Release\", \"Prior_Arrest_Episodes_Felony\",\"Prior_Arrest_Episodes_Property\",\"Prior_Arrest_Episodes_Drug\",\n",
    "                                         \"Prior_Conviction_Episodes_Viol\",\"Prior_Conviction_Episodes_Prop\",\n",
    "                                         \"Prior_Arrest_Episodes_DVCharges\",\"Prior_Conviction_Episodes_Misd\",\n",
    "                                         \"Prior_Conviction_Episodes_Felony\",\"Prior_Arrest_Episodes_GunCharges\", \n",
    "                                         \"Prior_Arrest_Episodes_PPViolationCharges\", \"Gang_Affiliated\", \n",
    "                                         \"Supervision_Level_First\", \"Education_Level\", \"Dependents\", \"Prison_Offense\",\n",
    "                                         \"Prison_Years\", \"Prior_Arrest_Episodes_Misd\" ,\"Prior_Arrest_Episodes_Violent\",\n",
    "                                         \"Prior_Conviction_Episodes_Drug\", \"Prior_Conviction_Episodes_PPViolationCharges\",\n",
    "                                         \"Prior_Conviction_Episodes_DomesticViolenceCharges\",\n",
    "                                         \"Prior_Conviction_Episodes_GunCharges\", \"Prior_Revocations_Parole\",\n",
    "                                         \"Prior_Revocations_Probation\", \"Condition_MH_SA\", \"Condition_Cog_Ed\",\n",
    "                                         \"Condition_Other\"])\n"
   ]
  },
  {
   "cell_type": "code",
   "execution_count": 20,
   "metadata": {},
   "outputs": [
    {
     "data": {
      "text/html": [
       "<div>\n",
       "<style scoped>\n",
       "    .dataframe tbody tr th:only-of-type {\n",
       "        vertical-align: middle;\n",
       "    }\n",
       "\n",
       "    .dataframe tbody tr th {\n",
       "        vertical-align: top;\n",
       "    }\n",
       "\n",
       "    .dataframe thead th {\n",
       "        text-align: right;\n",
       "    }\n",
       "</style>\n",
       "<table border=\"1\" class=\"dataframe\">\n",
       "  <thead>\n",
       "    <tr style=\"text-align: right;\">\n",
       "      <th></th>\n",
       "      <th>Residence_PUMA</th>\n",
       "      <th>Supervision_Risk_Score_First</th>\n",
       "      <th>Gender_M</th>\n",
       "      <th>Race_BLACK</th>\n",
       "      <th>Race_WHITE</th>\n",
       "      <th>Age_at_Release_18-22</th>\n",
       "      <th>Age_at_Release_23-27</th>\n",
       "      <th>Age_at_Release_28-32</th>\n",
       "      <th>Age_at_Release_33-37</th>\n",
       "      <th>Age_at_Release_38-42</th>\n",
       "      <th>...</th>\n",
       "      <th>Prior_Revocations_Parole_False</th>\n",
       "      <th>Prior_Revocations_Parole_True</th>\n",
       "      <th>Prior_Revocations_Probation_False</th>\n",
       "      <th>Prior_Revocations_Probation_True</th>\n",
       "      <th>Condition_MH_SA_False</th>\n",
       "      <th>Condition_MH_SA_True</th>\n",
       "      <th>Condition_Cog_Ed_False</th>\n",
       "      <th>Condition_Cog_Ed_True</th>\n",
       "      <th>Condition_Other_False</th>\n",
       "      <th>Condition_Other_True</th>\n",
       "    </tr>\n",
       "  </thead>\n",
       "  <tbody>\n",
       "    <tr>\n",
       "      <th>0</th>\n",
       "      <td>16</td>\n",
       "      <td>3.0</td>\n",
       "      <td>1</td>\n",
       "      <td>1</td>\n",
       "      <td>0</td>\n",
       "      <td>0</td>\n",
       "      <td>0</td>\n",
       "      <td>0</td>\n",
       "      <td>0</td>\n",
       "      <td>0</td>\n",
       "      <td>...</td>\n",
       "      <td>1</td>\n",
       "      <td>0</td>\n",
       "      <td>1</td>\n",
       "      <td>0</td>\n",
       "      <td>0</td>\n",
       "      <td>1</td>\n",
       "      <td>0</td>\n",
       "      <td>1</td>\n",
       "      <td>1</td>\n",
       "      <td>0</td>\n",
       "    </tr>\n",
       "    <tr>\n",
       "      <th>1</th>\n",
       "      <td>16</td>\n",
       "      <td>6.0</td>\n",
       "      <td>1</td>\n",
       "      <td>1</td>\n",
       "      <td>0</td>\n",
       "      <td>0</td>\n",
       "      <td>0</td>\n",
       "      <td>0</td>\n",
       "      <td>1</td>\n",
       "      <td>0</td>\n",
       "      <td>...</td>\n",
       "      <td>1</td>\n",
       "      <td>0</td>\n",
       "      <td>1</td>\n",
       "      <td>0</td>\n",
       "      <td>1</td>\n",
       "      <td>0</td>\n",
       "      <td>1</td>\n",
       "      <td>0</td>\n",
       "      <td>1</td>\n",
       "      <td>0</td>\n",
       "    </tr>\n",
       "    <tr>\n",
       "      <th>2</th>\n",
       "      <td>24</td>\n",
       "      <td>7.0</td>\n",
       "      <td>1</td>\n",
       "      <td>1</td>\n",
       "      <td>0</td>\n",
       "      <td>0</td>\n",
       "      <td>0</td>\n",
       "      <td>0</td>\n",
       "      <td>0</td>\n",
       "      <td>0</td>\n",
       "      <td>...</td>\n",
       "      <td>1</td>\n",
       "      <td>0</td>\n",
       "      <td>1</td>\n",
       "      <td>0</td>\n",
       "      <td>0</td>\n",
       "      <td>1</td>\n",
       "      <td>0</td>\n",
       "      <td>1</td>\n",
       "      <td>1</td>\n",
       "      <td>0</td>\n",
       "    </tr>\n",
       "    <tr>\n",
       "      <th>3</th>\n",
       "      <td>16</td>\n",
       "      <td>7.0</td>\n",
       "      <td>1</td>\n",
       "      <td>0</td>\n",
       "      <td>1</td>\n",
       "      <td>0</td>\n",
       "      <td>0</td>\n",
       "      <td>0</td>\n",
       "      <td>0</td>\n",
       "      <td>1</td>\n",
       "      <td>...</td>\n",
       "      <td>1</td>\n",
       "      <td>0</td>\n",
       "      <td>0</td>\n",
       "      <td>1</td>\n",
       "      <td>0</td>\n",
       "      <td>1</td>\n",
       "      <td>0</td>\n",
       "      <td>1</td>\n",
       "      <td>1</td>\n",
       "      <td>0</td>\n",
       "    </tr>\n",
       "    <tr>\n",
       "      <th>4</th>\n",
       "      <td>16</td>\n",
       "      <td>4.0</td>\n",
       "      <td>1</td>\n",
       "      <td>0</td>\n",
       "      <td>1</td>\n",
       "      <td>0</td>\n",
       "      <td>0</td>\n",
       "      <td>0</td>\n",
       "      <td>1</td>\n",
       "      <td>0</td>\n",
       "      <td>...</td>\n",
       "      <td>1</td>\n",
       "      <td>0</td>\n",
       "      <td>1</td>\n",
       "      <td>0</td>\n",
       "      <td>0</td>\n",
       "      <td>1</td>\n",
       "      <td>0</td>\n",
       "      <td>1</td>\n",
       "      <td>0</td>\n",
       "      <td>1</td>\n",
       "    </tr>\n",
       "  </tbody>\n",
       "</table>\n",
       "<p>5 rows × 111 columns</p>\n",
       "</div>"
      ],
      "text/plain": [
       "   Residence_PUMA  Supervision_Risk_Score_First  Gender_M  Race_BLACK  \\\n",
       "0              16                           3.0         1           1   \n",
       "1              16                           6.0         1           1   \n",
       "2              24                           7.0         1           1   \n",
       "3              16                           7.0         1           0   \n",
       "4              16                           4.0         1           0   \n",
       "\n",
       "   Race_WHITE  Age_at_Release_18-22  Age_at_Release_23-27  \\\n",
       "0           0                     0                     0   \n",
       "1           0                     0                     0   \n",
       "2           0                     0                     0   \n",
       "3           1                     0                     0   \n",
       "4           1                     0                     0   \n",
       "\n",
       "   Age_at_Release_28-32  Age_at_Release_33-37  Age_at_Release_38-42  ...  \\\n",
       "0                     0                     0                     0  ...   \n",
       "1                     0                     1                     0  ...   \n",
       "2                     0                     0                     0  ...   \n",
       "3                     0                     0                     1  ...   \n",
       "4                     0                     1                     0  ...   \n",
       "\n",
       "   Prior_Revocations_Parole_False  Prior_Revocations_Parole_True  \\\n",
       "0                               1                              0   \n",
       "1                               1                              0   \n",
       "2                               1                              0   \n",
       "3                               1                              0   \n",
       "4                               1                              0   \n",
       "\n",
       "   Prior_Revocations_Probation_False  Prior_Revocations_Probation_True  \\\n",
       "0                                  1                                 0   \n",
       "1                                  1                                 0   \n",
       "2                                  1                                 0   \n",
       "3                                  0                                 1   \n",
       "4                                  1                                 0   \n",
       "\n",
       "   Condition_MH_SA_False  Condition_MH_SA_True  Condition_Cog_Ed_False  \\\n",
       "0                      0                     1                       0   \n",
       "1                      1                     0                       1   \n",
       "2                      0                     1                       0   \n",
       "3                      0                     1                       0   \n",
       "4                      0                     1                       0   \n",
       "\n",
       "   Condition_Cog_Ed_True  Condition_Other_False  Condition_Other_True  \n",
       "0                      1                      1                     0  \n",
       "1                      0                      1                     0  \n",
       "2                      1                      1                     0  \n",
       "3                      1                      1                     0  \n",
       "4                      1                      0                     1  \n",
       "\n",
       "[5 rows x 111 columns]"
      ]
     },
     "execution_count": 20,
     "metadata": {},
     "output_type": "execute_result"
    }
   ],
   "source": [
    "X_total.head()"
   ]
  },
  {
   "cell_type": "code",
   "execution_count": 132,
   "metadata": {},
   "outputs": [
    {
     "data": {
      "text/plain": [
       "(9838, 32)"
      ]
     },
     "execution_count": 132,
     "metadata": {},
     "output_type": "execute_result"
    }
   ],
   "source": [
    "#X_total.to_csv(r'C:\\Users\\sshir\\TEST.csv', index=False, header=True)\n",
    "X_train.shape"
   ]
  },
  {
   "cell_type": "code",
   "execution_count": 133,
   "metadata": {},
   "outputs": [
    {
     "data": {
      "text/plain": [
       "(15406, 111)"
      ]
     },
     "execution_count": 133,
     "metadata": {},
     "output_type": "execute_result"
    }
   ],
   "source": [
    "X_total.shape"
   ]
  },
  {
   "cell_type": "code",
   "execution_count": 13,
   "metadata": {},
   "outputs": [
    {
     "data": {
      "text/plain": [
       "(9838, 111)"
      ]
     },
     "execution_count": 13,
     "metadata": {},
     "output_type": "execute_result"
    }
   ],
   "source": [
    "X_train=X_total[0:X_train.shape[0]]\n",
    "X_test=X_total[X_train.shape[0]:]\n",
    "\n",
    "X_train.shape"
   ]
  },
  {
   "cell_type": "code",
   "execution_count": 136,
   "metadata": {},
   "outputs": [
    {
     "data": {
      "text/plain": [
       "(9838,)"
      ]
     },
     "execution_count": 136,
     "metadata": {},
     "output_type": "execute_result"
    }
   ],
   "source": [
    "# X_train.shape\n",
    "Y_train.shape"
   ]
  },
  {
   "cell_type": "code",
   "execution_count": 209,
   "metadata": {},
   "outputs": [],
   "source": [
    "C_range = [0.001,0.01,0.1,1.,10] #SVM regulization parameters\n",
    "from sklearn.svm import SVC\n",
    "from sklearn.metrics import accuracy_score\n",
    "# train an SVM Classifier\n",
    "pred=np.zeros((len(C_range),X_test.shape[0]))\n",
    "i=0\n",
    "for x in C_range:\n",
    "    clf = SVC(C=x)\n",
    "    clf.fit(X_train, Y_train)\n",
    "    b =  clf.predict(X_test)\n",
    "    b.reshape((-1,X_test.shape[0]))\n",
    "    pred[i,]=b"
   ]
  },
  {
   "cell_type": "code",
   "execution_count": 218,
   "metadata": {},
   "outputs": [
    {
     "data": {
      "text/plain": [
       "array([0., 0., 0., ..., 0., 0., 0.])"
      ]
     },
     "execution_count": 218,
     "metadata": {},
     "output_type": "execute_result"
    }
   ],
   "source": [
    "pred[4,]"
   ]
  },
  {
   "cell_type": "code",
   "execution_count": 211,
   "metadata": {},
   "outputs": [
    {
     "data": {
      "text/plain": [
       "array([0, 0, 0, ..., 0, 0, 0])"
      ]
     },
     "execution_count": 211,
     "metadata": {},
     "output_type": "execute_result"
    }
   ],
   "source": [
    "### Step 4: Train a Random Forest Classifier, predict the labels, measure the accuracy, and print the classification_report\n",
    "from sklearn.ensemble import RandomForestClassifier\n",
    "from sklearn.metrics import classification_report, confusion_matrix, accuracy_score\n",
    "\n",
    "# Write your code here\n",
    "### Step 4: Train a Random Forest Classifier, predict the labels, measure the accuracy, and print the classification_report\n",
    "from sklearn.ensemble import RandomForestClassifier\n",
    "from sklearn.metrics import classification_report, confusion_matrix, accuracy_score\n",
    "# Write your code here\n",
    "RFC = RandomForestClassifier (n_estimators = 200, random_state=0)\n",
    "RFC.fit(X_train, Y_train)\n",
    "y_pred = RFC.predict(X_test)\n",
    "#accuracy=accuracy_score(y_test,y_pred)\n",
    "#print('Accuracy{}'.format(accuracy))\n",
    "y_pred\n"
   ]
  },
  {
   "cell_type": "code",
   "execution_count": 17,
   "metadata": {},
   "outputs": [
    {
     "name": "stdout",
     "output_type": "stream",
     "text": [
      "(9838, 111) (9838,)\n"
     ]
    }
   ],
   "source": [
    "print(X_train.shape,Y_train.shape)"
   ]
  },
  {
   "cell_type": "code",
   "execution_count": 27,
   "metadata": {},
   "outputs": [
    {
     "data": {
      "text/plain": [
       "(9838,)"
      ]
     },
     "execution_count": 27,
     "metadata": {},
     "output_type": "execute_result"
    }
   ],
   "source": [
    "Y_train.shape"
   ]
  },
  {
   "cell_type": "code",
   "execution_count": 47,
   "metadata": {},
   "outputs": [
    {
     "name": "stdout",
     "output_type": "stream",
     "text": [
      "_________________________________________________________________\n",
      "Layer (type)                 Output Shape              Param #   \n",
      "=================================================================\n",
      "dense_10 (Dense)             (None, 100)               11200     \n",
      "_________________________________________________________________\n",
      "dense_11 (Dense)             (None, 50)                5050      \n",
      "_________________________________________________________________\n",
      "dense_12 (Dense)             (None, 1)                 51        \n",
      "=================================================================\n",
      "Total params: 16,301\n",
      "Trainable params: 16,301\n",
      "Non-trainable params: 0\n",
      "_________________________________________________________________\n"
     ]
    }
   ],
   "source": [
    "model = models.Sequential()\n",
    "\n",
    "# model.add(layers.Conv2D(32, (3, 3), activation='relu', input_shape=(28, 28, 1)))\n",
    "# model.add(layers.MaxPooling2D((2, 2)))\n",
    "# model.add(layers.Conv2D(64, (3, 3), activation='relu'))\n",
    "# model.add(layers.MaxPooling2D((2, 2)))\n",
    "# model.add(layers.Flatten())\n",
    "\n",
    "model.add(layers.Dense(100, input_dim=X_train.shape[1], activation='relu'))\n",
    "model.add(layers.Dense(50, activation='relu'))\n",
    "model.add(layers.Dense(1, activation='sigmoid'))\n",
    "\n",
    "# model.add(layers.Dense(23, activation=\"softmax\"))\n",
    "# model.add(layers.Dense(2, activation=\"softmax\"))\n",
    "\n",
    "\n",
    "model.summary()"
   ]
  },
  {
   "cell_type": "code",
   "execution_count": 49,
   "metadata": {},
   "outputs": [
    {
     "name": "stdout",
     "output_type": "stream",
     "text": [
      "Train on 8854 samples, validate on 984 samples\n",
      "Epoch 1/100\n",
      "8854/8854 [==============================] - 2s 253us/step - loss: 0.5019 - acc: 0.7503 - val_loss: 0.5288 - val_acc: 0.7510\n",
      "Epoch 2/100\n",
      "8854/8854 [==============================] - 0s 36us/step - loss: 0.4895 - acc: 0.7610 - val_loss: 0.5356 - val_acc: 0.7459\n",
      "Epoch 3/100\n",
      "8854/8854 [==============================] - 0s 37us/step - loss: 0.4813 - acc: 0.7661 - val_loss: 0.5358 - val_acc: 0.7510\n",
      "Epoch 4/100\n",
      "8854/8854 [==============================] - 0s 36us/step - loss: 0.4714 - acc: 0.7697 - val_loss: 0.5384 - val_acc: 0.7470\n",
      "Epoch 5/100\n",
      "8854/8854 [==============================] - 0s 36us/step - loss: 0.4616 - acc: 0.7782 - val_loss: 0.5594 - val_acc: 0.7236\n",
      "Epoch 6/100\n",
      "8854/8854 [==============================] - 0s 36us/step - loss: 0.4556 - acc: 0.7782 - val_loss: 0.5564 - val_acc: 0.7337\n",
      "Epoch 7/100\n",
      "8854/8854 [==============================] - 0s 36us/step - loss: 0.4460 - acc: 0.7871 - val_loss: 0.5674 - val_acc: 0.7134\n",
      "Epoch 8/100\n",
      "8854/8854 [==============================] - 0s 37us/step - loss: 0.4426 - acc: 0.7890 - val_loss: 0.5732 - val_acc: 0.7287\n",
      "Epoch 9/100\n",
      "8854/8854 [==============================] - 0s 37us/step - loss: 0.4281 - acc: 0.7981 - val_loss: 0.5969 - val_acc: 0.7297\n",
      "Epoch 10/100\n",
      "8854/8854 [==============================] - 0s 36us/step - loss: 0.4236 - acc: 0.8022 - val_loss: 0.5807 - val_acc: 0.7307\n",
      "Epoch 11/100\n",
      "8854/8854 [==============================] - 0s 42us/step - loss: 0.4091 - acc: 0.8107 - val_loss: 0.5969 - val_acc: 0.7266\n",
      "Epoch 12/100\n",
      "8854/8854 [==============================] - 0s 37us/step - loss: 0.4067 - acc: 0.8090 - val_loss: 0.6107 - val_acc: 0.7215\n",
      "Epoch 13/100\n",
      "8854/8854 [==============================] - 0s 38us/step - loss: 0.3982 - acc: 0.8193 - val_loss: 0.6140 - val_acc: 0.6992\n",
      "Epoch 14/100\n",
      "8854/8854 [==============================] - 0s 37us/step - loss: 0.3863 - acc: 0.8287 - val_loss: 0.6392 - val_acc: 0.7246\n",
      "Epoch 15/100\n",
      "8854/8854 [==============================] - 0s 39us/step - loss: 0.3750 - acc: 0.8319 - val_loss: 0.6625 - val_acc: 0.6911\n",
      "Epoch 16/100\n",
      "8854/8854 [==============================] - 0s 37us/step - loss: 0.3675 - acc: 0.8332 - val_loss: 0.6640 - val_acc: 0.6789\n",
      "Epoch 17/100\n",
      "8854/8854 [==============================] - 0s 39us/step - loss: 0.3600 - acc: 0.8409 - val_loss: 0.6757 - val_acc: 0.7175\n",
      "Epoch 18/100\n",
      "8854/8854 [==============================] - 0s 42us/step - loss: 0.3542 - acc: 0.8411 - val_loss: 0.6901 - val_acc: 0.6677\n",
      "Epoch 19/100\n",
      "8854/8854 [==============================] - 0s 37us/step - loss: 0.3433 - acc: 0.8496 - val_loss: 0.6918 - val_acc: 0.7073\n",
      "Epoch 20/100\n",
      "8854/8854 [==============================] - 0s 38us/step - loss: 0.3398 - acc: 0.8524 - val_loss: 0.7079 - val_acc: 0.6911\n",
      "Epoch 21/100\n",
      "8854/8854 [==============================] - 0s 37us/step - loss: 0.3264 - acc: 0.8595 - val_loss: 0.7190 - val_acc: 0.6961\n",
      "Epoch 22/100\n",
      "8854/8854 [==============================] - 0s 39us/step - loss: 0.3169 - acc: 0.8674 - val_loss: 0.7435 - val_acc: 0.6911\n",
      "Epoch 23/100\n",
      "8854/8854 [==============================] - 0s 37us/step - loss: 0.3088 - acc: 0.8693 - val_loss: 0.7652 - val_acc: 0.6961\n",
      "Epoch 24/100\n",
      "8854/8854 [==============================] - 0s 36us/step - loss: 0.2984 - acc: 0.8756 - val_loss: 0.7636 - val_acc: 0.6982\n",
      "Epoch 25/100\n",
      "8854/8854 [==============================] - 0s 50us/step - loss: 0.2950 - acc: 0.8769 - val_loss: 0.7782 - val_acc: 0.6799\n",
      "Epoch 26/100\n",
      "8854/8854 [==============================] - 0s 48us/step - loss: 0.2846 - acc: 0.8831 - val_loss: 0.8097 - val_acc: 0.6911\n",
      "Epoch 27/100\n",
      "8854/8854 [==============================] - 0s 50us/step - loss: 0.2832 - acc: 0.8811 - val_loss: 0.8119 - val_acc: 0.6758\n",
      "Epoch 28/100\n",
      "8854/8854 [==============================] - 0s 46us/step - loss: 0.2677 - acc: 0.8930 - val_loss: 0.8202 - val_acc: 0.6758\n",
      "Epoch 29/100\n",
      "8854/8854 [==============================] - 0s 38us/step - loss: 0.2674 - acc: 0.8901 - val_loss: 0.8494 - val_acc: 0.6728\n",
      "Epoch 30/100\n",
      "8854/8854 [==============================] - 0s 37us/step - loss: 0.2616 - acc: 0.8970 - val_loss: 0.8878 - val_acc: 0.6839\n",
      "Epoch 31/100\n",
      "8854/8854 [==============================] - 0s 37us/step - loss: 0.2537 - acc: 0.8977 - val_loss: 0.8862 - val_acc: 0.7073\n",
      "Epoch 32/100\n",
      "8854/8854 [==============================] - 0s 36us/step - loss: 0.2412 - acc: 0.9057 - val_loss: 0.8877 - val_acc: 0.6768\n",
      "Epoch 33/100\n",
      "8854/8854 [==============================] - 0s 37us/step - loss: 0.2400 - acc: 0.9049 - val_loss: 0.9393 - val_acc: 0.6931\n",
      "Epoch 34/100\n",
      "8854/8854 [==============================] - 0s 36us/step - loss: 0.2282 - acc: 0.9135 - val_loss: 0.9617 - val_acc: 0.6606\n",
      "Epoch 35/100\n",
      "8854/8854 [==============================] - 0s 37us/step - loss: 0.2223 - acc: 0.9145 - val_loss: 0.9415 - val_acc: 0.6900\n",
      "Epoch 36/100\n",
      "8854/8854 [==============================] - 0s 36us/step - loss: 0.2182 - acc: 0.9169 - val_loss: 0.9720 - val_acc: 0.6717\n",
      "Epoch 37/100\n",
      "8854/8854 [==============================] - 0s 39us/step - loss: 0.2197 - acc: 0.9147 - val_loss: 1.0008 - val_acc: 0.6880\n",
      "Epoch 38/100\n",
      "8854/8854 [==============================] - 0s 36us/step - loss: 0.2077 - acc: 0.9226 - val_loss: 1.0050 - val_acc: 0.6738\n",
      "Epoch 39/100\n",
      "8854/8854 [==============================] - 0s 39us/step - loss: 0.1987 - acc: 0.9267 - val_loss: 1.0500 - val_acc: 0.6850\n",
      "Epoch 40/100\n",
      "8854/8854 [==============================] - 0s 39us/step - loss: 0.1924 - acc: 0.9294 - val_loss: 1.0403 - val_acc: 0.6890\n",
      "Epoch 41/100\n",
      "8854/8854 [==============================] - 0s 38us/step - loss: 0.1869 - acc: 0.9320 - val_loss: 1.0634 - val_acc: 0.6646\n",
      "Epoch 42/100\n",
      "8854/8854 [==============================] - 0s 39us/step - loss: 0.1847 - acc: 0.9316 - val_loss: 1.0796 - val_acc: 0.6657\n",
      "Epoch 43/100\n",
      "8854/8854 [==============================] - 0s 37us/step - loss: 0.1793 - acc: 0.9348 - val_loss: 1.1227 - val_acc: 0.6819\n",
      "Epoch 44/100\n",
      "8854/8854 [==============================] - 0s 37us/step - loss: 0.1660 - acc: 0.9409 - val_loss: 1.1381 - val_acc: 0.7053\n",
      "Epoch 45/100\n",
      "8854/8854 [==============================] - 0s 37us/step - loss: 0.1607 - acc: 0.9466 - val_loss: 1.1521 - val_acc: 0.6738\n",
      "Epoch 46/100\n",
      "8854/8854 [==============================] - 0s 37us/step - loss: 0.1546 - acc: 0.9479 - val_loss: 1.1565 - val_acc: 0.6941\n",
      "Epoch 47/100\n",
      "8854/8854 [==============================] - 0s 40us/step - loss: 0.1561 - acc: 0.9451 - val_loss: 1.2244 - val_acc: 0.7012\n",
      "Epoch 48/100\n",
      "8854/8854 [==============================] - 0s 37us/step - loss: 0.1509 - acc: 0.9492 - val_loss: 1.2543 - val_acc: 0.6911\n",
      "Epoch 49/100\n",
      "8854/8854 [==============================] - 0s 38us/step - loss: 0.1486 - acc: 0.9479 - val_loss: 1.2680 - val_acc: 0.6677\n",
      "Epoch 50/100\n",
      "8854/8854 [==============================] - 0s 40us/step - loss: 0.1392 - acc: 0.9530 - val_loss: 1.2783 - val_acc: 0.6626\n",
      "Epoch 51/100\n",
      "8854/8854 [==============================] - 0s 43us/step - loss: 0.1314 - acc: 0.9610 - val_loss: 1.3240 - val_acc: 0.6819\n",
      "Epoch 52/100\n",
      "8854/8854 [==============================] - 0s 37us/step - loss: 0.1251 - acc: 0.9628 - val_loss: 1.3519 - val_acc: 0.6606\n",
      "Epoch 53/100\n",
      "8854/8854 [==============================] - 0s 40us/step - loss: 0.1258 - acc: 0.9610 - val_loss: 1.3469 - val_acc: 0.6514\n",
      "Epoch 54/100\n",
      "8854/8854 [==============================] - 0s 36us/step - loss: 0.1284 - acc: 0.9589 - val_loss: 1.4138 - val_acc: 0.6545\n",
      "Epoch 55/100\n",
      "8854/8854 [==============================] - 0s 40us/step - loss: 0.1198 - acc: 0.9639 - val_loss: 1.4035 - val_acc: 0.6524\n",
      "Epoch 56/100\n",
      "8854/8854 [==============================] - 0s 37us/step - loss: 0.1187 - acc: 0.9618 - val_loss: 1.5007 - val_acc: 0.6341\n",
      "Epoch 57/100\n",
      "8854/8854 [==============================] - 0s 37us/step - loss: 0.1154 - acc: 0.9648 - val_loss: 1.4221 - val_acc: 0.6657\n",
      "Epoch 58/100\n",
      "8854/8854 [==============================] - 0s 37us/step - loss: 0.1130 - acc: 0.9657 - val_loss: 1.4552 - val_acc: 0.6606\n",
      "Epoch 59/100\n",
      "8854/8854 [==============================] - 0s 39us/step - loss: 0.1047 - acc: 0.9707 - val_loss: 1.4817 - val_acc: 0.6646\n",
      "Epoch 60/100\n",
      "8854/8854 [==============================] - 0s 39us/step - loss: 0.0982 - acc: 0.9720 - val_loss: 1.5512 - val_acc: 0.6514\n",
      "Epoch 61/100\n",
      "8854/8854 [==============================] - 1s 65us/step - loss: 0.0942 - acc: 0.9756 - val_loss: 1.5650 - val_acc: 0.6494\n",
      "Epoch 62/100\n",
      "8854/8854 [==============================] - 1s 62us/step - loss: 0.0896 - acc: 0.9762 - val_loss: 1.5414 - val_acc: 0.6728\n",
      "Epoch 63/100\n",
      "8854/8854 [==============================] - 1s 62us/step - loss: 0.0902 - acc: 0.9754 - val_loss: 1.5778 - val_acc: 0.6535\n",
      "Epoch 64/100\n",
      "8854/8854 [==============================] - 1s 59us/step - loss: 0.0854 - acc: 0.9773 - val_loss: 1.6302 - val_acc: 0.6240\n",
      "Epoch 65/100\n",
      "8854/8854 [==============================] - 0s 45us/step - loss: 0.0805 - acc: 0.9816 - val_loss: 1.6120 - val_acc: 0.6717\n",
      "Epoch 66/100\n",
      "8854/8854 [==============================] - 1s 71us/step - loss: 0.0936 - acc: 0.9709 - val_loss: 1.6032 - val_acc: 0.6565\n",
      "Epoch 67/100\n",
      "8854/8854 [==============================] - 0s 40us/step - loss: 0.0782 - acc: 0.9799 - val_loss: 1.6925 - val_acc: 0.6474\n",
      "Epoch 68/100\n",
      "8854/8854 [==============================] - 0s 37us/step - loss: 0.0718 - acc: 0.9843 - val_loss: 1.7074 - val_acc: 0.6494\n",
      "Epoch 69/100\n",
      "8854/8854 [==============================] - 0s 47us/step - loss: 0.0742 - acc: 0.9822 - val_loss: 1.7153 - val_acc: 0.6596\n",
      "Epoch 70/100\n",
      "8854/8854 [==============================] - 0s 47us/step - loss: 0.0690 - acc: 0.9853 - val_loss: 1.7542 - val_acc: 0.6453\n",
      "Epoch 71/100\n",
      "8854/8854 [==============================] - 0s 49us/step - loss: 0.0663 - acc: 0.9849 - val_loss: 1.7678 - val_acc: 0.6433\n",
      "Epoch 72/100\n",
      "8854/8854 [==============================] - 0s 46us/step - loss: 0.0628 - acc: 0.9868 - val_loss: 1.8008 - val_acc: 0.6331\n",
      "Epoch 73/100\n",
      "8854/8854 [==============================] - 0s 49us/step - loss: 0.0626 - acc: 0.9867 - val_loss: 1.8279 - val_acc: 0.6484\n",
      "Epoch 74/100\n",
      "8854/8854 [==============================] - 0s 43us/step - loss: 0.0578 - acc: 0.9881 - val_loss: 1.8141 - val_acc: 0.6677\n",
      "Epoch 75/100\n",
      "8854/8854 [==============================] - 0s 41us/step - loss: 0.0573 - acc: 0.9887 - val_loss: 1.8648 - val_acc: 0.6514\n",
      "Epoch 76/100\n",
      "8854/8854 [==============================] - 0s 40us/step - loss: 0.0541 - acc: 0.9906 - val_loss: 1.8814 - val_acc: 0.6565\n",
      "Epoch 77/100\n",
      "8854/8854 [==============================] - 0s 40us/step - loss: 0.0558 - acc: 0.9883 - val_loss: 1.8601 - val_acc: 0.6829\n",
      "Epoch 78/100\n",
      "8854/8854 [==============================] - 0s 26us/step - loss: 0.0628 - acc: 0.9852 - val_loss: 1.9216 - val_acc: 0.6504\n",
      "Epoch 79/100\n",
      "8854/8854 [==============================] - 0s 30us/step - loss: 0.0545 - acc: 0.9901 - val_loss: 1.9312 - val_acc: 0.6616\n",
      "Epoch 80/100\n",
      "8854/8854 [==============================] - 0s 30us/step - loss: 0.0498 - acc: 0.9922 - val_loss: 1.9734 - val_acc: 0.6697\n",
      "Epoch 81/100\n",
      "8854/8854 [==============================] - 0s 36us/step - loss: 0.0493 - acc: 0.9897 - val_loss: 1.9801 - val_acc: 0.6463\n",
      "Epoch 82/100\n",
      "8854/8854 [==============================] - 0s 39us/step - loss: 0.0575 - acc: 0.9868 - val_loss: 2.0197 - val_acc: 0.6707\n",
      "Epoch 83/100\n",
      "8854/8854 [==============================] - 0s 33us/step - loss: 0.1018 - acc: 0.9614 - val_loss: 2.0209 - val_acc: 0.6545\n",
      "Epoch 84/100\n",
      "8854/8854 [==============================] - 0s 28us/step - loss: 0.0566 - acc: 0.9864 - val_loss: 2.0029 - val_acc: 0.6606\n",
      "Epoch 85/100\n",
      "8854/8854 [==============================] - 0s 39us/step - loss: 0.0431 - acc: 0.9932 - val_loss: 2.0829 - val_acc: 0.6463\n",
      "Epoch 86/100\n",
      "8854/8854 [==============================] - 0s 41us/step - loss: 0.0391 - acc: 0.9941 - val_loss: 2.1002 - val_acc: 0.6657\n",
      "Epoch 87/100\n",
      "8854/8854 [==============================] - 0s 37us/step - loss: 0.0377 - acc: 0.9953 - val_loss: 2.1235 - val_acc: 0.6545\n",
      "Epoch 88/100\n",
      "8854/8854 [==============================] - 0s 39us/step - loss: 0.0317 - acc: 0.9974 - val_loss: 2.1068 - val_acc: 0.6535\n",
      "Epoch 89/100\n",
      "8854/8854 [==============================] - 0s 37us/step - loss: 0.0311 - acc: 0.9975 - val_loss: 2.1065 - val_acc: 0.6616\n",
      "Epoch 90/100\n",
      "8854/8854 [==============================] - 0s 38us/step - loss: 0.0286 - acc: 0.9976 - val_loss: 2.1636 - val_acc: 0.6626\n",
      "Epoch 91/100\n",
      "8854/8854 [==============================] - 0s 39us/step - loss: 0.0275 - acc: 0.9982 - val_loss: 2.1598 - val_acc: 0.6728\n",
      "Epoch 92/100\n",
      "8854/8854 [==============================] - 0s 42us/step - loss: 0.0277 - acc: 0.9973 - val_loss: 2.2150 - val_acc: 0.6626\n",
      "Epoch 93/100\n",
      "8854/8854 [==============================] - 0s 40us/step - loss: 0.0269 - acc: 0.9983 - val_loss: 2.2789 - val_acc: 0.6392\n",
      "Epoch 94/100\n",
      "8854/8854 [==============================] - 0s 40us/step - loss: 0.0237 - acc: 0.9988 - val_loss: 2.2334 - val_acc: 0.6677\n",
      "Epoch 95/100\n",
      "8854/8854 [==============================] - 0s 38us/step - loss: 0.0242 - acc: 0.9991 - val_loss: 2.2731 - val_acc: 0.6362\n",
      "Epoch 96/100\n",
      "8854/8854 [==============================] - 0s 41us/step - loss: 0.0232 - acc: 0.9988 - val_loss: 2.2889 - val_acc: 0.6494\n",
      "Epoch 97/100\n",
      "8854/8854 [==============================] - 0s 48us/step - loss: 0.0212 - acc: 0.9997 - val_loss: 2.2993 - val_acc: 0.6728\n",
      "Epoch 98/100\n",
      "8854/8854 [==============================] - 0s 37us/step - loss: 0.0214 - acc: 0.9991 - val_loss: 2.3381 - val_acc: 0.6596\n",
      "Epoch 99/100\n",
      "8854/8854 [==============================] - 0s 39us/step - loss: 0.0199 - acc: 0.9993 - val_loss: 2.3326 - val_acc: 0.6565\n",
      "Epoch 100/100\n",
      "8854/8854 [==============================] - 0s 36us/step - loss: 0.0201 - acc: 0.9993 - val_loss: 2.3354 - val_acc: 0.6575\n"
     ]
    },
    {
     "data": {
      "text/plain": [
       "<tensorflow.python.keras.callbacks.History at 0x222b28abf60>"
      ]
     },
     "execution_count": 49,
     "metadata": {},
     "output_type": "execute_result"
    }
   ],
   "source": [
    "batch_size = 128\n",
    "epochs = 100\n",
    "\n",
    "model.compile(loss=\"binary_crossentropy\", optimizer=\"adam\", metrics=[\"accuracy\"])\n",
    "\n",
    "model.fit(X_train, Y_train, batch_size=batch_size, epochs=epochs, validation_split=0.1)"
   ]
  },
  {
   "cell_type": "code",
   "execution_count": 43,
   "metadata": {},
   "outputs": [
    {
     "data": {
      "text/plain": [
       "array([[0.125335  ],\n",
       "       [0.28994012],\n",
       "       [0.22991621],\n",
       "       ...,\n",
       "       [0.19316395],\n",
       "       [0.2680969 ],\n",
       "       [0.3923691 ]], dtype=float32)"
      ]
     },
     "execution_count": 43,
     "metadata": {},
     "output_type": "execute_result"
    }
   ],
   "source": [
    "# make probability predictions with the model\n",
    "predictions = model.predict(X_test)\n",
    "predictions"
   ]
  },
  {
   "cell_type": "code",
   "execution_count": 50,
   "metadata": {},
   "outputs": [
    {
     "name": "stdout",
     "output_type": "stream",
     "text": [
      "9838/9838 [==============================] - 0s 34us/step\n"
     ]
    }
   ],
   "source": [
    "Accuracy = model.evaluate(X_train, Y_train)\n"
   ]
  },
  {
   "cell_type": "code",
   "execution_count": null,
   "metadata": {},
   "outputs": [],
   "source": []
  }
 ],
 "metadata": {
  "kernelspec": {
   "display_name": "Python 3",
   "language": "python",
   "name": "python3"
  },
  "language_info": {
   "codemirror_mode": {
    "name": "ipython",
    "version": 3
   },
   "file_extension": ".py",
   "mimetype": "text/x-python",
   "name": "python",
   "nbconvert_exporter": "python",
   "pygments_lexer": "ipython3",
   "version": "3.8.8"
  }
 },
 "nbformat": 4,
 "nbformat_minor": 4
}
