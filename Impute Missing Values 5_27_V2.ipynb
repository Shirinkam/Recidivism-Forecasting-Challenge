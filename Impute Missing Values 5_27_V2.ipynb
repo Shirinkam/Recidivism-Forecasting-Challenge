{
 "cells": [
  {
   "cell_type": "code",
   "execution_count": 18,
   "metadata": {},
   "outputs": [
    {
     "name": "stdout",
     "output_type": "stream",
     "text": [
      "Requirement already satisfied: h2o in c:\\users\\sshir\\anaconda3\\envs\\mytfenv\\lib\\site-packages (3.32.1.3)Note: you may need to restart the kernel to use updated packages.\n",
      "Requirement already satisfied: requests in c:\\users\\sshir\\anaconda3\\envs\\mytfenv\\lib\\site-packages (from h2o) (2.25.1)\n",
      "\n",
      "Requirement already satisfied: future in c:\\users\\sshir\\anaconda3\\envs\\mytfenv\\lib\\site-packages (from h2o) (0.18.2)\n",
      "Requirement already satisfied: tabulate in c:\\users\\sshir\\anaconda3\\envs\\mytfenv\\lib\\site-packages (from h2o) (0.8.9)\n",
      "Requirement already satisfied: colorama>=0.3.8 in c:\\users\\sshir\\anaconda3\\envs\\mytfenv\\lib\\site-packages (from h2o) (0.4.4)\n",
      "Requirement already satisfied: idna<3,>=2.5 in c:\\users\\sshir\\anaconda3\\envs\\mytfenv\\lib\\site-packages (from requests->h2o) (2.10)\n",
      "Requirement already satisfied: urllib3<1.27,>=1.21.1 in c:\\users\\sshir\\anaconda3\\envs\\mytfenv\\lib\\site-packages (from requests->h2o) (1.26.5)\n",
      "Requirement already satisfied: certifi>=2017.4.17 in c:\\users\\sshir\\anaconda3\\envs\\mytfenv\\lib\\site-packages (from requests->h2o) (2020.12.5)\n",
      "Requirement already satisfied: chardet<5,>=3.0.2 in c:\\users\\sshir\\anaconda3\\envs\\mytfenv\\lib\\site-packages (from requests->h2o) (4.0.0)\n"
     ]
    }
   ],
   "source": [
    "pip install h2o"
   ]
  },
  {
   "cell_type": "code",
   "execution_count": 32,
   "metadata": {},
   "outputs": [],
   "source": [
    "tf.__version__"
   ]
  },
  {
   "cell_type": "code",
   "execution_count": 33,
   "metadata": {},
   "outputs": [],
   "source": [
    "import tensorflow as tf\n",
    "\n",
    "from tensorflow.keras.layers import Dense\n",
    "from tensorflow.keras import Model"
   ]
  },
  {
   "cell_type": "code",
   "execution_count": 35,
   "metadata": {},
   "outputs": [],
   "source": [
    "import pandas as pd\n",
    "import numpy as np\n",
    "from h2o.automl import H2OAutoML\n",
    "import matplotlib.pyplot as plt"
   ]
  },
  {
   "cell_type": "code",
   "execution_count": 26,
   "metadata": {},
   "outputs": [
    {
     "name": "stdout",
     "output_type": "stream",
     "text": [
      "Requirement already satisfied: keras in c:\\users\\sshir\\anaconda3\\envs\\mytfenv\\lib\\site-packages (2.4.3)\n",
      "Requirement already satisfied: h5py in c:\\users\\sshir\\anaconda3\\envs\\mytfenv\\lib\\site-packages (from keras) (3.2.1)\n",
      "Requirement already satisfied: pyyaml in c:\\users\\sshir\\anaconda3\\envs\\mytfenv\\lib\\site-packages (from keras) (5.4.1)\n",
      "Requirement already satisfied: scipy>=0.14 in c:\\users\\sshir\\anaconda3\\envs\\mytfenv\\lib\\site-packages (from keras) (1.6.3)\n",
      "Requirement already satisfied: numpy>=1.9.1 in c:\\users\\sshir\\anaconda3\\envs\\mytfenv\\lib\\site-packages (from keras) (1.16.5)\n",
      "Requirement already satisfied: cached-property in c:\\users\\sshir\\anaconda3\\envs\\mytfenv\\lib\\site-packages (from h5py->keras) (1.5.2)\n"
     ]
    }
   ],
   "source": [
    "# !pip install keras"
   ]
  },
  {
   "cell_type": "code",
   "execution_count": 36,
   "metadata": {},
   "outputs": [],
   "source": [
    "NIJ_Training_df= pd.read_csv(\"NIJ_s_Recidivism_Challenge_Training_Dataset.csv\")"
   ]
  },
  {
   "cell_type": "code",
   "execution_count": 37,
   "metadata": {},
   "outputs": [
    {
     "data": {
      "text/plain": [
       "Index(['ID', 'Gender', 'Race', 'Age_at_Release', 'Residence_PUMA',\n",
       "       'Gang_Affiliated', 'Supervision_Risk_Score_First',\n",
       "       'Supervision_Level_First', 'Education_Level', 'Dependents',\n",
       "       'Prison_Offense', 'Prison_Years', 'Prior_Arrest_Episodes_Felony',\n",
       "       'Prior_Arrest_Episodes_Misd', 'Prior_Arrest_Episodes_Violent',\n",
       "       'Prior_Arrest_Episodes_Property', 'Prior_Arrest_Episodes_Drug', '_v1',\n",
       "       'Prior_Arrest_Episodes_DVCharges', 'Prior_Arrest_Episodes_GunCharges',\n",
       "       'Prior_Conviction_Episodes_Felony', 'Prior_Conviction_Episodes_Misd',\n",
       "       'Prior_Conviction_Episodes_Viol', 'Prior_Conviction_Episodes_Prop',\n",
       "       'Prior_Conviction_Episodes_Drug', '_v2', '_v3', '_v4',\n",
       "       'Prior_Revocations_Parole', 'Prior_Revocations_Probation',\n",
       "       'Condition_MH_SA', 'Condition_Cog_Ed', 'Condition_Other',\n",
       "       'Violations_ElectronicMonitoring', 'Violations_Instruction',\n",
       "       'Violations_FailToReport', 'Violations_MoveWithoutPermission',\n",
       "       'Delinquency_Reports', 'Program_Attendances',\n",
       "       'Program_UnexcusedAbsences', 'Residence_Changes',\n",
       "       'Avg_Days_per_DrugTest', 'DrugTests_THC_Positive',\n",
       "       'DrugTests_Cocaine_Positive', 'DrugTests_Meth_Positive',\n",
       "       'DrugTests_Other_Positive', 'Percent_Days_Employed', 'Jobs_Per_Year',\n",
       "       'Employment_Exempt', 'Recidivism_Within_3years',\n",
       "       'Recidivism_Arrest_Year1', 'Recidivism_Arrest_Year2',\n",
       "       'Recidivism_Arrest_Year3'],\n",
       "      dtype='object')"
      ]
     },
     "execution_count": 37,
     "metadata": {},
     "output_type": "execute_result"
    }
   ],
   "source": [
    "NIJ_Training_df.columns"
   ]
  },
  {
   "cell_type": "code",
   "execution_count": 38,
   "metadata": {},
   "outputs": [
    {
     "data": {
      "text/plain": [
       "Index(['ID', 'Gender', 'Race', 'Age_at_Release', 'Residence_PUMA',\n",
       "       'Gang_Affiliated', 'Supervision_Risk_Score_First',\n",
       "       'Supervision_Level_First', 'Education_Level', 'Dependents',\n",
       "       'Prison_Offense', 'Prison_Years', 'Prior_Arrest_Episodes_Felony',\n",
       "       'Prior_Arrest_Episodes_Misd', 'Prior_Arrest_Episodes_Violent',\n",
       "       'Prior_Arrest_Episodes_Property', 'Prior_Arrest_Episodes_Drug', '_v1',\n",
       "       'Prior_Arrest_Episodes_DVCharges', 'Prior_Arrest_Episodes_GunCharges',\n",
       "       'Prior_Conviction_Episodes_Felony', 'Prior_Conviction_Episodes_Misd',\n",
       "       'Prior_Conviction_Episodes_Viol', 'Prior_Conviction_Episodes_Prop',\n",
       "       'Prior_Conviction_Episodes_Drug', '_v2', '_v3', '_v4',\n",
       "       'Prior_Revocations_Parole', 'Prior_Revocations_Probation',\n",
       "       'Condition_MH_SA', 'Condition_Cog_Ed', 'Condition_Other',\n",
       "       'Violations_ElectronicMonitoring', 'Violations_Instruction',\n",
       "       'Violations_FailToReport', 'Violations_MoveWithoutPermission',\n",
       "       'Delinquency_Reports', 'Program_Attendances',\n",
       "       'Program_UnexcusedAbsences', 'Residence_Changes',\n",
       "       'Avg_Days_per_DrugTest', 'DrugTests_THC_Positive',\n",
       "       'DrugTests_Cocaine_Positive', 'DrugTests_Meth_Positive',\n",
       "       'DrugTests_Other_Positive', 'Percent_Days_Employed', 'Jobs_Per_Year',\n",
       "       'Employment_Exempt'],\n",
       "      dtype='object')"
      ]
     },
     "execution_count": 38,
     "metadata": {},
     "output_type": "execute_result"
    }
   ],
   "source": [
    "x_train =NIJ_Training_df[NIJ_Training_df.columns[0:-4]]\n",
    "x_train.columns"
   ]
  },
  {
   "cell_type": "code",
   "execution_count": 39,
   "metadata": {},
   "outputs": [
    {
     "data": {
      "text/plain": [
       "ID                                     0\n",
       "Gender                                 0\n",
       "Race                                   0\n",
       "Age_at_Release                         0\n",
       "Residence_PUMA                         0\n",
       "Gang_Affiliated                     2217\n",
       "Supervision_Risk_Score_First         330\n",
       "Supervision_Level_First             1212\n",
       "Education_Level                        0\n",
       "Dependents                             0\n",
       "Prison_Offense                      2321\n",
       "Prison_Years                           0\n",
       "Prior_Arrest_Episodes_Felony           0\n",
       "Prior_Arrest_Episodes_Misd             0\n",
       "Prior_Arrest_Episodes_Violent          0\n",
       "Prior_Arrest_Episodes_Property         0\n",
       "Prior_Arrest_Episodes_Drug             0\n",
       "_v1                                    0\n",
       "Prior_Arrest_Episodes_DVCharges        0\n",
       "Prior_Arrest_Episodes_GunCharges       0\n",
       "Prior_Conviction_Episodes_Felony       0\n",
       "Prior_Conviction_Episodes_Misd         0\n",
       "Prior_Conviction_Episodes_Viol         0\n",
       "Prior_Conviction_Episodes_Prop         0\n",
       "Prior_Conviction_Episodes_Drug         0\n",
       "_v2                                    0\n",
       "_v3                                    0\n",
       "_v4                                    0\n",
       "Prior_Revocations_Parole               0\n",
       "Prior_Revocations_Probation            0\n",
       "Condition_MH_SA                        0\n",
       "Condition_Cog_Ed                       0\n",
       "Condition_Other                        0\n",
       "Violations_ElectronicMonitoring        0\n",
       "Violations_Instruction                 0\n",
       "Violations_FailToReport                0\n",
       "Violations_MoveWithoutPermission       0\n",
       "Delinquency_Reports                    0\n",
       "Program_Attendances                    0\n",
       "Program_UnexcusedAbsences              0\n",
       "Residence_Changes                      0\n",
       "Avg_Days_per_DrugTest               4260\n",
       "DrugTests_THC_Positive              3632\n",
       "DrugTests_Cocaine_Positive          3632\n",
       "DrugTests_Meth_Positive             3632\n",
       "DrugTests_Other_Positive            3632\n",
       "Percent_Days_Employed                307\n",
       "Jobs_Per_Year                        534\n",
       "Employment_Exempt                      0\n",
       "dtype: int64"
      ]
     },
     "execution_count": 39,
     "metadata": {},
     "output_type": "execute_result"
    }
   ],
   "source": [
    "# Number of records having null Values in each column\n",
    "x_train.isnull().sum()"
   ]
  },
  {
   "cell_type": "code",
   "execution_count": 40,
   "metadata": {},
   "outputs": [
    {
     "data": {
      "text/plain": [
       "8190"
      ]
     },
     "execution_count": 40,
     "metadata": {},
     "output_type": "execute_result"
    }
   ],
   "source": [
    "# Total Number of Records in a Dataset with null values in any column\n",
    "x_train.isna().any(axis=1).sum()"
   ]
  },
  {
   "cell_type": "code",
   "execution_count": 41,
   "metadata": {},
   "outputs": [
    {
     "data": {
      "text/plain": [
       "Gender                                 0\n",
       "Race                                   0\n",
       "Age_at_Release                         0\n",
       "Gang_Affiliated                     2217\n",
       "Supervision_Level_First             1212\n",
       "Education_Level                        0\n",
       "Dependents                             0\n",
       "Prison_Offense                      2321\n",
       "Prison_Years                           0\n",
       "Prior_Arrest_Episodes_Felony           0\n",
       "Prior_Arrest_Episodes_Misd             0\n",
       "Prior_Arrest_Episodes_Violent          0\n",
       "Prior_Arrest_Episodes_Property         0\n",
       "Prior_Arrest_Episodes_Drug             0\n",
       "_v1                                    0\n",
       "Prior_Conviction_Episodes_Felony       0\n",
       "Prior_Conviction_Episodes_Misd         0\n",
       "Prior_Conviction_Episodes_Prop         0\n",
       "Prior_Conviction_Episodes_Drug         0\n",
       "Delinquency_Reports                    0\n",
       "Program_Attendances                    0\n",
       "Program_UnexcusedAbsences              0\n",
       "Residence_Changes                      0\n",
       "dtype: int64"
      ]
     },
     "execution_count": 41,
     "metadata": {},
     "output_type": "execute_result"
    }
   ],
   "source": [
    "# Find the Categoricorical columns for feature engineering(get Dummies)\n",
    "cat_columns=[col for col in x_train.columns if x_train[col].dtypes=='O']\n",
    "x_train[cat_columns].isnull().sum()"
   ]
  },
  {
   "cell_type": "code",
   "execution_count": 42,
   "metadata": {},
   "outputs": [
    {
     "data": {
      "text/plain": [
       "5211"
      ]
     },
     "execution_count": 42,
     "metadata": {},
     "output_type": "execute_result"
    }
   ],
   "source": [
    "x_train[cat_columns].isna().any(axis=1).sum()"
   ]
  },
  {
   "cell_type": "code",
   "execution_count": 43,
   "metadata": {},
   "outputs": [
    {
     "name": "stdout",
     "output_type": "stream",
     "text": [
      "   Gender_F  Gender_M  Gender_nan  Race_BLACK  Race_WHITE  Race_nan  \\\n",
      "0         0         1           0           1           0         0   \n",
      "1         0         1           0           1           0         0   \n",
      "2         0         1           0           1           0         0   \n",
      "3         0         1           0           0           1         0   \n",
      "4         0         1           0           0           1         0   \n",
      "\n",
      "   Age_at_Release_18-22  Age_at_Release_23-27  Age_at_Release_28-32  \\\n",
      "0                     0                     0                     0   \n",
      "1                     0                     0                     0   \n",
      "2                     0                     0                     0   \n",
      "3                     0                     0                     0   \n",
      "4                     0                     0                     0   \n",
      "\n",
      "   Age_at_Release_33-37  ...  Program_UnexcusedAbsences_0  \\\n",
      "0                     0  ...                            1   \n",
      "1                     1  ...                            1   \n",
      "2                     0  ...                            1   \n",
      "3                     0  ...                            1   \n",
      "4                     1  ...                            1   \n",
      "\n",
      "   Program_UnexcusedAbsences_1  Program_UnexcusedAbsences_2  \\\n",
      "0                            0                            0   \n",
      "1                            0                            0   \n",
      "2                            0                            0   \n",
      "3                            0                            0   \n",
      "4                            0                            0   \n",
      "\n",
      "   Program_UnexcusedAbsences_3 or more  Program_UnexcusedAbsences_nan  \\\n",
      "0                                    0                              0   \n",
      "1                                    0                              0   \n",
      "2                                    0                              0   \n",
      "3                                    0                              0   \n",
      "4                                    0                              0   \n",
      "\n",
      "   Residence_Changes_0  Residence_Changes_1  Residence_Changes_2  \\\n",
      "0                    0                    0                    1   \n",
      "1                    0                    0                    1   \n",
      "2                    1                    0                    0   \n",
      "3                    0                    0                    0   \n",
      "4                    1                    0                    0   \n",
      "\n",
      "   Residence_Changes_3 or more  Residence_Changes_nan  \n",
      "0                            0                      0  \n",
      "1                            0                      0  \n",
      "2                            0                      0  \n",
      "3                            1                      0  \n",
      "4                            0                      0  \n",
      "\n",
      "[5 rows x 135 columns]\n"
     ]
    }
   ],
   "source": [
    "cat_variables = x_train[cat_columns]\n",
    "# print(cat_variables)\n",
    "cat_dummies = pd.get_dummies(cat_variables,dummy_na=True)\n",
    "print(cat_dummies.head())"
   ]
  },
  {
   "cell_type": "code",
   "execution_count": 44,
   "metadata": {},
   "outputs": [
    {
     "data": {
      "text/plain": [
       "Index(['ID', 'Gender', 'Race', 'Age_at_Release', 'Residence_PUMA',\n",
       "       'Gang_Affiliated', 'Supervision_Risk_Score_First',\n",
       "       'Supervision_Level_First', 'Education_Level', 'Dependents',\n",
       "       'Prison_Offense', 'Prison_Years', 'Prior_Arrest_Episodes_Felony',\n",
       "       'Prior_Arrest_Episodes_Misd', 'Prior_Arrest_Episodes_Violent',\n",
       "       'Prior_Arrest_Episodes_Property', 'Prior_Arrest_Episodes_Drug', '_v1',\n",
       "       'Prior_Arrest_Episodes_DVCharges', 'Prior_Arrest_Episodes_GunCharges',\n",
       "       'Prior_Conviction_Episodes_Felony', 'Prior_Conviction_Episodes_Misd',\n",
       "       'Prior_Conviction_Episodes_Viol', 'Prior_Conviction_Episodes_Prop',\n",
       "       'Prior_Conviction_Episodes_Drug', '_v2', '_v3', '_v4',\n",
       "       'Prior_Revocations_Parole', 'Prior_Revocations_Probation',\n",
       "       'Condition_MH_SA', 'Condition_Cog_Ed', 'Condition_Other',\n",
       "       'Violations_ElectronicMonitoring', 'Violations_Instruction',\n",
       "       'Violations_FailToReport', 'Violations_MoveWithoutPermission',\n",
       "       'Delinquency_Reports', 'Program_Attendances',\n",
       "       'Program_UnexcusedAbsences', 'Residence_Changes',\n",
       "       'Avg_Days_per_DrugTest', 'DrugTests_THC_Positive',\n",
       "       'DrugTests_Cocaine_Positive', 'DrugTests_Meth_Positive',\n",
       "       'DrugTests_Other_Positive', 'Percent_Days_Employed', 'Jobs_Per_Year',\n",
       "       'Employment_Exempt'],\n",
       "      dtype='object')"
      ]
     },
     "execution_count": 44,
     "metadata": {},
     "output_type": "execute_result"
    }
   ],
   "source": [
    "x_train.columns"
   ]
  },
  {
   "cell_type": "code",
   "execution_count": 45,
   "metadata": {},
   "outputs": [],
   "source": [
    "x_train = x_train.drop(cat_columns, axis=1)"
   ]
  },
  {
   "cell_type": "code",
   "execution_count": 46,
   "metadata": {},
   "outputs": [
    {
     "data": {
      "text/plain": [
       "Index(['ID', 'Residence_PUMA', 'Supervision_Risk_Score_First',\n",
       "       'Prior_Arrest_Episodes_DVCharges', 'Prior_Arrest_Episodes_GunCharges',\n",
       "       'Prior_Conviction_Episodes_Viol', '_v2', '_v3', '_v4',\n",
       "       'Prior_Revocations_Parole', 'Prior_Revocations_Probation',\n",
       "       'Condition_MH_SA', 'Condition_Cog_Ed', 'Condition_Other',\n",
       "       'Violations_ElectronicMonitoring', 'Violations_Instruction',\n",
       "       'Violations_FailToReport', 'Violations_MoveWithoutPermission',\n",
       "       'Avg_Days_per_DrugTest', 'DrugTests_THC_Positive',\n",
       "       'DrugTests_Cocaine_Positive', 'DrugTests_Meth_Positive',\n",
       "       'DrugTests_Other_Positive', 'Percent_Days_Employed', 'Jobs_Per_Year',\n",
       "       'Employment_Exempt'],\n",
       "      dtype='object')"
      ]
     },
     "execution_count": 46,
     "metadata": {},
     "output_type": "execute_result"
    }
   ],
   "source": [
    "x_train.columns"
   ]
  },
  {
   "cell_type": "markdown",
   "metadata": {},
   "source": [
    "8 - null\n",
    "get dummies, dummy_na - gang_affiliated _false=np.null, gangaffliated_true= np.nullgang_affiliated_nan=1\n",
    "drop ganga_affliated_nan"
   ]
  },
  {
   "cell_type": "code",
   "execution_count": 47,
   "metadata": {},
   "outputs": [
    {
     "name": "stdout",
     "output_type": "stream",
     "text": [
      "Index(['ID', 'Residence_PUMA', 'Supervision_Risk_Score_First',\n",
      "       'Prior_Arrest_Episodes_DVCharges', 'Prior_Arrest_Episodes_GunCharges',\n",
      "       'Prior_Conviction_Episodes_Viol', '_v2', '_v3', '_v4',\n",
      "       'Prior_Revocations_Parole',\n",
      "       ...\n",
      "       'Program_UnexcusedAbsences_0', 'Program_UnexcusedAbsences_1',\n",
      "       'Program_UnexcusedAbsences_2', 'Program_UnexcusedAbsences_3 or more',\n",
      "       'Program_UnexcusedAbsences_nan', 'Residence_Changes_0',\n",
      "       'Residence_Changes_1', 'Residence_Changes_2',\n",
      "       'Residence_Changes_3 or more', 'Residence_Changes_nan'],\n",
      "      dtype='object', length=161)\n"
     ]
    }
   ],
   "source": [
    "x_train = pd.concat([x_train, cat_dummies], axis=1)\n",
    "print(x_train.columns)"
   ]
  },
  {
   "cell_type": "code",
   "execution_count": 48,
   "metadata": {},
   "outputs": [],
   "source": [
    "x_train.loc[x_train.Gang_Affiliated_nan == 1, [\"Gang_Affiliated_False\", \"Gang_Affiliated_True\"]] = np.nan\n",
    "# x_train.drop('Gang_Affiliated_nan',axis=1)\n"
   ]
  },
  {
   "cell_type": "code",
   "execution_count": 49,
   "metadata": {},
   "outputs": [],
   "source": [
    "x_train.loc[x_train.Supervision_Level_First_nan == 1, [\"Supervision_Level_First_High\", \"Supervision_Level_First_Specialized\",\"Supervision_Level_First_Standard\"]] = np.nan\n",
    "# x_train.drop('Supervision_Level_First_nan',axis=1)"
   ]
  },
  {
   "cell_type": "code",
   "execution_count": 50,
   "metadata": {},
   "outputs": [
    {
     "ename": "NameError",
     "evalue": "name 'Prior_Arrest_Episodes_PPViolationCharges_nanx_train' is not defined",
     "output_type": "error",
     "traceback": [
      "\u001b[1;31m---------------------------------------------------------------------------\u001b[0m",
      "\u001b[1;31mNameError\u001b[0m                                 Traceback (most recent call last)",
      "\u001b[1;32m<ipython-input-50-6033140f9c18>\u001b[0m in \u001b[0;36m<module>\u001b[1;34m\u001b[0m\n\u001b[1;32m----> 1\u001b[1;33m \u001b[0mPrior_Arrest_Episodes_PPViolationCharges_nanx_train\u001b[0m\u001b[1;33m.\u001b[0m\u001b[0mloc\u001b[0m\u001b[1;33m[\u001b[0m\u001b[0mx_train\u001b[0m\u001b[1;33m.\u001b[0m\u001b[0mPrison_Offense_nan\u001b[0m \u001b[1;33m==\u001b[0m \u001b[1;36m1\u001b[0m\u001b[1;33m,\u001b[0m \u001b[1;33m[\u001b[0m\u001b[1;34m\"Prison_Offense_Drug\"\u001b[0m\u001b[1;33m,\u001b[0m \u001b[1;34m\"Prison_Offense_Other\"\u001b[0m\u001b[1;33m,\u001b[0m\u001b[1;34m\"Prison_Offense_Property\"\u001b[0m\u001b[1;33m,\u001b[0m\u001b[1;34m\"Prison_Offense_Violent/Non-Sex\"\u001b[0m\u001b[1;33m,\u001b[0m\u001b[1;34m\"Prison_Offense_Violent/Sex\"\u001b[0m\u001b[1;33m]\u001b[0m\u001b[1;33m]\u001b[0m \u001b[1;33m=\u001b[0m \u001b[0mnp\u001b[0m\u001b[1;33m.\u001b[0m\u001b[0mnan\u001b[0m\u001b[1;33m\u001b[0m\u001b[1;33m\u001b[0m\u001b[0m\n\u001b[0m\u001b[0;32m      2\u001b[0m \u001b[1;31m# x_train.drop('Prison_Offense_nan',axis=1)\u001b[0m\u001b[1;33m\u001b[0m\u001b[1;33m\u001b[0m\u001b[1;33m\u001b[0m\u001b[0m\n",
      "\u001b[1;31mNameError\u001b[0m: name 'Prior_Arrest_Episodes_PPViolationCharges_nanx_train' is not defined"
     ]
    }
   ],
   "source": [
    "Prior_Arrest_Episodes_PPViolationCharges_nanx_train.loc[x_train.Prison_Offense_nan == 1, [\"Prison_Offense_Drug\", \"Prison_Offense_Other\",\"Prison_Offense_Property\",\"Prison_Offense_Violent/Non-Sex\",\"Prison_Offense_Violent/Sex\"]] = np.nan\n",
    "# x_train.drop('Prison_Offense_nan',axis=1)"
   ]
  },
  {
   "cell_type": "code",
   "execution_count": 51,
   "metadata": {},
   "outputs": [],
   "source": [
    "x_train.drop(['Gender_nan','Race_nan','Age_at_Release_nan','Gang_Affiliated_nan','Supervision_Level_First_nan','Education_Level_nan','Dependents_nan','Prison_Offense_nan','Prison_Years_nan','Prior_Arrest_Episodes_Felony_nan','Prior_Arrest_Episodes_Misd_nan','Prior_Arrest_Episodes_Violent_nan','Prior_Arrest_Episodes_Property_nan','Prior_Arrest_Episodes_Drug_nan','Prior_Conviction_Episodes_Felony_nan','Prior_Conviction_Episodes_Misd_nan','Prior_Conviction_Episodes_Prop_nan','Prior_Conviction_Episodes_Drug_nan','Delinquency_Reports_nan','Program_Attendances_nan','Program_UnexcusedAbsences_nan','Residence_Changes_nan'],axis=1,inplace=True)"
   ]
  },
  {
   "cell_type": "code",
   "execution_count": 52,
   "metadata": {},
   "outputs": [
    {
     "data": {
      "text/plain": [
       "6693"
      ]
     },
     "execution_count": 52,
     "metadata": {},
     "output_type": "execute_result"
    }
   ],
   "source": [
    "x_train_nan_values = x_train[x_train.isna().any(axis=1)]\n",
    "len(x_train_nan_values)"
   ]
  },
  {
   "cell_type": "code",
   "execution_count": 53,
   "metadata": {},
   "outputs": [
    {
     "ename": "ImportError",
     "evalue": "cannot import name 'KNNImputer' from 'sklearn.impute' (c:\\users\\sshir\\anaconda3\\envs\\mytfenv\\lib\\site-packages\\sklearn\\impute\\__init__.py)",
     "output_type": "error",
     "traceback": [
      "\u001b[1;31m---------------------------------------------------------------------------\u001b[0m",
      "\u001b[1;31mImportError\u001b[0m                               Traceback (most recent call last)",
      "\u001b[1;32m<ipython-input-53-9b3c42b6d3ab>\u001b[0m in \u001b[0;36m<module>\u001b[1;34m\u001b[0m\n\u001b[1;32m----> 1\u001b[1;33m \u001b[1;32mfrom\u001b[0m \u001b[0msklearn\u001b[0m\u001b[1;33m.\u001b[0m\u001b[0mimpute\u001b[0m \u001b[1;32mimport\u001b[0m \u001b[0mKNNImputer\u001b[0m\u001b[1;33m\u001b[0m\u001b[1;33m\u001b[0m\u001b[0m\n\u001b[0m\u001b[0;32m      2\u001b[0m \u001b[0mimputer\u001b[0m \u001b[1;33m=\u001b[0m \u001b[0mKNNImputer\u001b[0m\u001b[1;33m(\u001b[0m\u001b[0mn_neighbors\u001b[0m\u001b[1;33m=\u001b[0m\u001b[1;36m10\u001b[0m\u001b[1;33m)\u001b[0m\u001b[1;33m\u001b[0m\u001b[1;33m\u001b[0m\u001b[0m\n\u001b[0;32m      3\u001b[0m \u001b[0mx_train\u001b[0m \u001b[1;33m=\u001b[0m \u001b[0mpd\u001b[0m\u001b[1;33m.\u001b[0m\u001b[0mDataFrame\u001b[0m\u001b[1;33m(\u001b[0m\u001b[0mimputer\u001b[0m\u001b[1;33m.\u001b[0m\u001b[0mfit_transform\u001b[0m\u001b[1;33m(\u001b[0m\u001b[0mx_train\u001b[0m\u001b[1;33m)\u001b[0m\u001b[1;33m,\u001b[0m\u001b[0mcolumns\u001b[0m \u001b[1;33m=\u001b[0m \u001b[0mx_train\u001b[0m\u001b[1;33m.\u001b[0m\u001b[0mcolumns\u001b[0m\u001b[1;33m)\u001b[0m\u001b[1;33m\u001b[0m\u001b[1;33m\u001b[0m\u001b[0m\n",
      "\u001b[1;31mImportError\u001b[0m: cannot import name 'KNNImputer' from 'sklearn.impute' (c:\\users\\sshir\\anaconda3\\envs\\mytfenv\\lib\\site-packages\\sklearn\\impute\\__init__.py)"
     ]
    }
   ],
   "source": [
    "from sklearn.impute import KNNImputer\n",
    "imputer = KNNImputer(n_neighbors=10)\n",
    "x_train = pd.DataFrame(imputer.fit_transform(x_train),columns = x_train.columns)"
   ]
  },
  {
   "cell_type": "code",
   "execution_count": 29,
   "metadata": {},
   "outputs": [],
   "source": [
    "x_train.to_excel (r'C:\\Users\\sshir\\OneDrive - University of Texas at San Antonio\\MSDA\\Recividism forcasting challenge\\X_Train_imputed.xlsx', index = False, header=True)"
   ]
  },
  {
   "cell_type": "code",
   "execution_count": 23,
   "metadata": {},
   "outputs": [
    {
     "data": {
      "text/plain": [
       "ID                                     False\n",
       "Residence_PUMA                         False\n",
       "Supervision_Risk_Score_First           False\n",
       "Prior_Arrest_Episodes_DVCharges        False\n",
       "Prior_Arrest_Episodes_GunCharges       False\n",
       "                                       ...  \n",
       "Program_UnexcusedAbsences_3 or more    False\n",
       "Residence_Changes_0                    False\n",
       "Residence_Changes_1                    False\n",
       "Residence_Changes_2                    False\n",
       "Residence_Changes_3 or more            False\n",
       "Length: 139, dtype: bool"
      ]
     },
     "execution_count": 23,
     "metadata": {},
     "output_type": "execute_result"
    }
   ],
   "source": [
    "x_train.isna().any()"
   ]
  },
  {
   "cell_type": "code",
   "execution_count": 24,
   "metadata": {},
   "outputs": [
    {
     "data": {
      "text/plain": [
       "0"
      ]
     },
     "execution_count": 24,
     "metadata": {},
     "output_type": "execute_result"
    }
   ],
   "source": [
    "x_train.isna().sum().sum()"
   ]
  },
  {
   "cell_type": "code",
   "execution_count": 36,
   "metadata": {},
   "outputs": [
    {
     "name": "stdout",
     "output_type": "stream",
     "text": [
      "(18028, 139) (18028,)\n"
     ]
    }
   ],
   "source": [
    "print(x_train.shape,y_train.shape)\n"
   ]
  },
  {
   "cell_type": "code",
   "execution_count": 33,
   "metadata": {},
   "outputs": [],
   "source": [
    "NIJ_Testing_df=pd.read_csv(\"NIJ_s_Recidivism_Challenge_Test_Dataset1.csv\")"
   ]
  },
  {
   "cell_type": "code",
   "execution_count": 34,
   "metadata": {},
   "outputs": [],
   "source": [
    "y_train=NIJ_Training_df[NIJ_Training_df.columns[-3]]*1\n",
    "x_test=NIJ_Testing_df[NIJ_Testing_df.columns[1:]]"
   ]
  },
  {
   "cell_type": "code",
   "execution_count": 40,
   "metadata": {},
   "outputs": [
    {
     "name": "stdout",
     "output_type": "stream",
     "text": [
      "(18028, 139) (18028,)\n"
     ]
    }
   ],
   "source": [
    "print(x_train.shape,y_train.shape)\n"
   ]
  },
  {
   "cell_type": "code",
   "execution_count": 41,
   "metadata": {},
   "outputs": [],
   "source": [
    "# x_test = pd.DataFrame(imputer.fit_transform(x_train),columns = x_test.columns)"
   ]
  },
  {
   "cell_type": "code",
   "execution_count": 42,
   "metadata": {},
   "outputs": [
    {
     "ename": "ModuleNotFoundError",
     "evalue": "No module named 'tensorflow'",
     "output_type": "error",
     "traceback": [
      "\u001b[1;31m---------------------------------------------------------------------------\u001b[0m",
      "\u001b[1;31mModuleNotFoundError\u001b[0m                       Traceback (most recent call last)",
      "\u001b[1;32m<ipython-input-42-8da80f4f8bc0>\u001b[0m in \u001b[0;36m<module>\u001b[1;34m\u001b[0m\n\u001b[1;32m----> 1\u001b[1;33m \u001b[1;32mimport\u001b[0m \u001b[0mtensorflow\u001b[0m \u001b[1;32mas\u001b[0m \u001b[0mtf\u001b[0m\u001b[1;33m\u001b[0m\u001b[1;33m\u001b[0m\u001b[0m\n\u001b[0m\u001b[0;32m      2\u001b[0m \u001b[1;32mfrom\u001b[0m \u001b[0mtensorflow\u001b[0m\u001b[1;33m.\u001b[0m\u001b[0mkeras\u001b[0m \u001b[1;32mimport\u001b[0m \u001b[0mdatasets\u001b[0m\u001b[1;33m,\u001b[0m \u001b[0mlayers\u001b[0m\u001b[1;33m,\u001b[0m \u001b[0mmodels\u001b[0m\u001b[1;33m\u001b[0m\u001b[1;33m\u001b[0m\u001b[0m\n\u001b[0;32m      3\u001b[0m \u001b[1;32mimport\u001b[0m \u001b[0mkeras\u001b[0m\u001b[1;33m\u001b[0m\u001b[1;33m\u001b[0m\u001b[0m\n\u001b[0;32m      4\u001b[0m \u001b[1;32mimport\u001b[0m \u001b[0mmatplotlib\u001b[0m\u001b[1;33m.\u001b[0m\u001b[0mpyplot\u001b[0m \u001b[1;32mas\u001b[0m \u001b[0mplt\u001b[0m\u001b[1;33m\u001b[0m\u001b[1;33m\u001b[0m\u001b[0m\n\u001b[0;32m      5\u001b[0m \u001b[1;32mimport\u001b[0m \u001b[0mnumpy\u001b[0m \u001b[1;32mas\u001b[0m \u001b[0mnp\u001b[0m\u001b[1;33m\u001b[0m\u001b[1;33m\u001b[0m\u001b[0m\n",
      "\u001b[1;31mModuleNotFoundError\u001b[0m: No module named 'tensorflow'"
     ]
    }
   ],
   "source": [
    "import tensorflow as tf\n",
    "from tensorflow.keras import datasets, layers, models\n",
    "import keras\n",
    "import matplotlib.pyplot as plt\n",
    "import numpy as np"
   ]
  },
  {
   "cell_type": "code",
   "execution_count": 27,
   "metadata": {},
   "outputs": [
    {
     "ename": "NameError",
     "evalue": "name 'models' is not defined",
     "output_type": "error",
     "traceback": [
      "\u001b[1;31m---------------------------------------------------------------------------\u001b[0m",
      "\u001b[1;31mNameError\u001b[0m                                 Traceback (most recent call last)",
      "\u001b[1;32m<ipython-input-27-b0bc9042de41>\u001b[0m in \u001b[0;36m<module>\u001b[1;34m\u001b[0m\n\u001b[1;32m----> 1\u001b[1;33m \u001b[0mmodel\u001b[0m \u001b[1;33m=\u001b[0m \u001b[0mmodels\u001b[0m\u001b[1;33m.\u001b[0m\u001b[0mSequential\u001b[0m\u001b[1;33m(\u001b[0m\u001b[1;33m)\u001b[0m\u001b[1;33m\u001b[0m\u001b[1;33m\u001b[0m\u001b[0m\n\u001b[0m\u001b[0;32m      2\u001b[0m \u001b[0mmodel\u001b[0m\u001b[1;33m.\u001b[0m\u001b[0madd\u001b[0m\u001b[1;33m(\u001b[0m\u001b[0mlayers\u001b[0m\u001b[1;33m.\u001b[0m\u001b[0mDense\u001b[0m\u001b[1;33m(\u001b[0m\u001b[1;36m100\u001b[0m\u001b[1;33m,\u001b[0m \u001b[0minput_dim\u001b[0m\u001b[1;33m=\u001b[0m\u001b[0mx_train\u001b[0m\u001b[1;33m.\u001b[0m\u001b[0mshape\u001b[0m\u001b[1;33m[\u001b[0m\u001b[1;36m1\u001b[0m\u001b[1;33m]\u001b[0m\u001b[1;33m,\u001b[0m \u001b[0mactivation\u001b[0m\u001b[1;33m=\u001b[0m\u001b[1;34m'relu'\u001b[0m\u001b[1;33m)\u001b[0m\u001b[1;33m)\u001b[0m\u001b[1;33m\u001b[0m\u001b[1;33m\u001b[0m\u001b[0m\n\u001b[0;32m      3\u001b[0m \u001b[0mmodel\u001b[0m\u001b[1;33m.\u001b[0m\u001b[0madd\u001b[0m\u001b[1;33m(\u001b[0m\u001b[0mlayers\u001b[0m\u001b[1;33m.\u001b[0m\u001b[0mDense\u001b[0m\u001b[1;33m(\u001b[0m\u001b[1;36m50\u001b[0m\u001b[1;33m,\u001b[0m \u001b[0mactivation\u001b[0m\u001b[1;33m=\u001b[0m\u001b[1;34m'relu'\u001b[0m\u001b[1;33m)\u001b[0m\u001b[1;33m)\u001b[0m\u001b[1;33m\u001b[0m\u001b[1;33m\u001b[0m\u001b[0m\n\u001b[0;32m      4\u001b[0m \u001b[0mmodel\u001b[0m\u001b[1;33m.\u001b[0m\u001b[0madd\u001b[0m\u001b[1;33m(\u001b[0m\u001b[0mlayers\u001b[0m\u001b[1;33m.\u001b[0m\u001b[0mDense\u001b[0m\u001b[1;33m(\u001b[0m\u001b[1;36m1\u001b[0m\u001b[1;33m,\u001b[0m \u001b[0mactivation\u001b[0m\u001b[1;33m=\u001b[0m\u001b[1;34m'sigmoid'\u001b[0m\u001b[1;33m)\u001b[0m\u001b[1;33m)\u001b[0m\u001b[1;33m\u001b[0m\u001b[1;33m\u001b[0m\u001b[0m\n\u001b[0;32m      5\u001b[0m \u001b[0mmodel\u001b[0m\u001b[1;33m.\u001b[0m\u001b[0msummary\u001b[0m\u001b[1;33m(\u001b[0m\u001b[1;33m)\u001b[0m\u001b[1;33m\u001b[0m\u001b[1;33m\u001b[0m\u001b[0m\n",
      "\u001b[1;31mNameError\u001b[0m: name 'models' is not defined"
     ]
    }
   ],
   "source": [
    "model = models.Sequential()\n",
    "model.add(layers.Dense(100, input_dim=x_train.shape[1], activation='relu'))\n",
    "model.add(layers.Dense(50, activation='relu'))\n",
    "model.add(layers.Dense(1, activation='sigmoid'))\n",
    "model.summary()"
   ]
  },
  {
   "cell_type": "code",
   "execution_count": null,
   "metadata": {},
   "outputs": [],
   "source": [
    "batch_size = 128\n",
    "epochs = 100\n",
    "\n",
    "model.compile(loss=\"binary_crossentropy\", optimizer=\"adam\", metrics=[\"accuracy\"])\n",
    "model.fit(x_train, y_train, batch_size=batch_size, epochs=epochs, validation_split=0.1)"
   ]
  },
  {
   "cell_type": "code",
   "execution_count": null,
   "metadata": {},
   "outputs": [],
   "source": [
    "# make probability predictions with the model\n",
    "predictions = model.predict(X_test)\n",
    "predictions"
   ]
  },
  {
   "cell_type": "code",
   "execution_count": null,
   "metadata": {},
   "outputs": [],
   "source": [
    "Accuracy = model.evaluate(X_train, Y_train)"
   ]
  }
 ],
 "metadata": {
  "kernelspec": {
   "display_name": "Python 3",
   "language": "python",
   "name": "python3"
  },
  "language_info": {
   "codemirror_mode": {
    "name": "ipython",
    "version": 3
   },
   "file_extension": ".py",
   "mimetype": "text/x-python",
   "name": "python",
   "nbconvert_exporter": "python",
   "pygments_lexer": "ipython3",
   "version": "3.7.10"
  }
 },
 "nbformat": 4,
 "nbformat_minor": 4
}
